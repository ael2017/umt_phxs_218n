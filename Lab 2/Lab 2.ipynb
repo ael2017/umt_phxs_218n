{
 "cells": [
  {
   "cell_type": "code",
   "execution_count": 11,
   "metadata": {},
   "outputs": [
    {
     "name": "stdout",
     "output_type": "stream",
     "text": [
      "0,0.62,248,524.47,98.8,7.66\n",
      "\n",
      "0,0.815,290.03,525.17,90.3,7.62\n",
      "\n",
      "Li= 0 Lf= 0.62 Ti= 248 Tf= 524.47 Ri= 98.8 Rf= 7.66\n",
      "Li= 0 Lf= 0.815 Ti= 290.03 Tf= 525.17 Ri= 90.3 Rf= 7.62\n"
     ]
    }
   ],
   "source": [
    "#Copy from HERE.\n",
    "'''read_csv(fname, header=False) returns an array from csv file with comma delimiter.'''\n",
    "'''For Lab 2 function returns data with the following format:\n",
    "    [length_initial, length_final, temp_initial, temp_final, resistance_initial, resistance_final]'''\n",
    "\n",
    "def read_csv(fname, header=False):\n",
    "    data = []\n",
    "    try:\n",
    "        with open(fname, 'r') as file:\n",
    "            if(header == True):\n",
    "                file = file[1:]\n",
    "            for line in file:\n",
    "                print(line)\n",
    "                line = line.rstrip(\"\\r\\n\") #Remove any trailing newline characters.\n",
    "                line_data = line.split(\",\") #Split the line by comma delimeter.\n",
    "                data.append(line_data)\n",
    "    except IOError as e:\n",
    "        print(\"I/O error({0}): {1}\".format(e.errno, e.strerror))\n",
    "            \n",
    "    return data\n",
    "\n",
    "def print_data(data):\n",
    "    for n in data:\n",
    "        print(\"Li=\", n[0], \"Lf=\", n[1], \"Ti=\", n[2], \"Tf=\", n[3], \"Ri=\", n[4], \"Rf=\", n[5])\n",
    "#Copy to HERE\n",
    "\n",
    "mydata = read_csv(\"data.csv\")\n",
    "print_data(mydata)\n",
    "        "
   ]
  }
 ],
 "metadata": {
  "kernelspec": {
   "display_name": "Python 3",
   "language": "python",
   "name": "python3"
  },
  "language_info": {
   "codemirror_mode": {
    "name": "ipython",
    "version": 3
   },
   "file_extension": ".py",
   "mimetype": "text/x-python",
   "name": "python",
   "nbconvert_exporter": "python",
   "pygments_lexer": "ipython3",
   "version": "3.7.1"
  }
 },
 "nbformat": 4,
 "nbformat_minor": 2
}
